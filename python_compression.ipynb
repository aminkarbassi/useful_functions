{
  "nbformat": 4,
  "nbformat_minor": 0,
  "metadata": {
    "colab": {
      "provenance": [],
      "authorship_tag": "ABX9TyNFoRwQm3kGekZiOfmd+DxM",
      "include_colab_link": true
    },
    "kernelspec": {
      "name": "python3",
      "display_name": "Python 3"
    },
    "language_info": {
      "name": "python"
    }
  },
  "cells": [
    {
      "cell_type": "markdown",
      "metadata": {
        "id": "view-in-github",
        "colab_type": "text"
      },
      "source": [
        "<a href=\"https://colab.research.google.com/github/aminkarbassi/useful_functions/blob/main/python_compression.ipynb\" target=\"_parent\"><img src=\"https://colab.research.google.com/assets/colab-badge.svg\" alt=\"Open In Colab\"/></a>"
      ]
    },
    {
      "cell_type": "code",
      "execution_count": 1,
      "metadata": {
        "id": "eQrCo7J24i7d",
        "colab": {
          "base_uri": "https://localhost:8080/"
        },
        "outputId": "cba36281-446c-42d9-a64e-80a00741d682"
      },
      "outputs": [
        {
          "output_type": "execute_result",
          "data": {
            "text/plain": [
              "['A', 'B', 'C', 1, 2, 3, '$', '£', '€']"
            ]
          },
          "metadata": {},
          "execution_count": 1
        }
      ],
      "source": [
        "# Python comprehensen\n",
        "# Gesucht Alle Werten sollen in einer einfach Liste übertragen werden.\n",
        "my_list = [['A','B','C'],[1,2,3],['$','£','€']]\n",
        "\n",
        "res = [v1 for sub_list in my_list for v1 in sub_list]\n",
        "res"
      ]
    }
  ]
}