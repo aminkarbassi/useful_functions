{
  "nbformat": 4,
  "nbformat_minor": 0,
  "metadata": {
    "colab": {
      "provenance": [],
      "authorship_tag": "ABX9TyMMUk5Nffe5dfyFeu85Copg",
      "include_colab_link": true
    },
    "kernelspec": {
      "name": "python3",
      "display_name": "Python 3"
    },
    "language_info": {
      "name": "python"
    }
  },
  "cells": [
    {
      "cell_type": "markdown",
      "metadata": {
        "id": "view-in-github",
        "colab_type": "text"
      },
      "source": [
        "<a href=\"https://colab.research.google.com/github/aminkarbassi/useful_functions/blob/main/count_letters.ipynb\" target=\"_parent\"><img src=\"https://colab.research.google.com/assets/colab-badge.svg\" alt=\"Open In Colab\"/></a>"
      ]
    },
    {
      "cell_type": "code",
      "execution_count": null,
      "metadata": {
        "id": "2r2UY7qe2kFz"
      },
      "outputs": [],
      "source": [
        "import matplotlib.pyplot as plt\n",
        "import string\n",
        "\n",
        "def count_and_visualize_letters(text):\n",
        "    # Convert all letters to lowercase to make counting case-insensitive\n",
        "    text = text.lower()\n",
        "\n",
        "    # Remove non-letter characters from the text\n",
        "    text = ''.join(c for c in text if c in string.ascii_lowercase)\n",
        "\n",
        "    # Count the occurrences of each letter\n",
        "    letter_counts = {letter: text.count(letter) for letter in string.ascii_lowercase}\n",
        "\n",
        "    # Extract the letters and their counts as separate lists\n",
        "    letters = list(letter_counts.keys())\n",
        "    counts = list(letter_counts.values())\n",
        "\n",
        "    # Sort the letters alphabetically\n",
        "    letters.sort()\n",
        "\n",
        "    # Create a list of counts with zero for each letter\n",
        "    zero_counts = [0] * len(letters)\n",
        "\n",
        "    # Replace zero counts with actual counts where applicable\n",
        "    for i, letter in enumerate(letters):\n",
        "        zero_counts[i] = letter_counts[letter]\n",
        "\n",
        "    # Create a bar plot of the letter counts\n",
        "    fig, ax = plt.subplots()\n",
        "    ax.bar(letters, zero_counts)\n",
        "\n",
        "    # Set the x-axis label and title\n",
        "    ax.set_xlabel(\"Letter\")\n",
        "    ax.set_ylabel(\"Count\")\n",
        "    ax.set_title(\"Letter counts in text\")\n",
        "\n",
        "    # Set the x-axis tick labels to show all letters\n",
        "    ax.set_xticklabels(letters)\n",
        "\n",
        "    # Display the plot\n",
        "    plt.show()\n"
      ]
    }
  ]
}